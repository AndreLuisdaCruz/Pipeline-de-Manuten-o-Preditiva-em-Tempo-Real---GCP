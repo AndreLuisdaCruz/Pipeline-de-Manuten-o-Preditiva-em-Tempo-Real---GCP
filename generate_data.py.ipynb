{
 "cells": [
  {
   "cell_type": "code",
   "execution_count": 0,
   "metadata": {
    "application/vnd.databricks.v1+cell": {
     "cellMetadata": {},
     "inputWidgets": {},
     "nuid": "05087b61-37af-4132-b239-04cd9b20c645",
     "showTitle": false,
     "tableResultSettingsMap": {},
     "title": ""
    }
   },
   "outputs": [],
   "source": [
    "!pip install google-cloud-pubsub\n",
    "!pip install google-cloud-bigquery\n",
    "!pip install google-auth\n",
    "!pip install --upgrade google-api-core\n",
    "!pip install google-cloud-core"
   ]
  },
  {
   "cell_type": "code",
   "execution_count": 0,
   "metadata": {
    "application/vnd.databricks.v1+cell": {
     "cellMetadata": {},
     "inputWidgets": {},
     "nuid": "b1dcfe46-e1db-4aae-9193-977555a7df8f",
     "showTitle": false,
     "tableResultSettingsMap": {},
     "title": ""
    }
   },
   "outputs": [],
   "source": [
    "from google.colab import auth\n",
    "\n",
    "auth.authenticate_user()"
   ]
  },
  {
   "cell_type": "code",
   "execution_count": 0,
   "metadata": {
    "application/vnd.databricks.v1+cell": {
     "cellMetadata": {},
     "inputWidgets": {},
     "nuid": "62250f4c-41df-47d3-b723-ec2593e39629",
     "showTitle": false,
     "tableResultSettingsMap": {},
     "title": ""
    }
   },
   "outputs": [],
   "source": [
    "import json\n",
    "import time\n",
    "import random\n",
    "import datetime\n",
    "from google.cloud import pubsub_v1\n",
    "\n",
    "project_id = 'manutencao-preditiva-gcp'\n",
    "topic_id = 'sensor-data-topic'\n",
    "\n",
    "# Criação do cliente de publicação\n",
    "publisher = pubsub_v1.PublisherClient()\n",
    "topic_path = publisher.topic_path(project_id, topic_id)\n",
    "\n",
    "def generate_sensor_data(machine_id):\n",
    "    \"\"\"\n",
    "    Função para gerar dados simulados de um sensor.\n",
    "    Adiciona um pouco de aleatoriedade e anomalias para simular um cenário real.\n",
    "    \"\"\"\n",
    "    timestamp = datetime.datetime.now().isoformat()\n",
    "    # Adiciona anomalia na temperatura com 10% de chance\n",
    "    temperatura = round(random.uniform(50, 80) + (random.uniform(10, 20) if random.random() > 0.9 else 0), 2)\n",
    "    # Adiciona anomalia na vibração com 5% de chance\n",
    "    vibracao = round(random.uniform(2.0, 5.0) + (random.uniform(3, 5) if random.random() > 0.95 else 0), 2)\n",
    "    rpm = round(random.uniform(1000, 1500), 2)\n",
    "    \n",
    "    # Define o status baseado nas anomalias\n",
    "    status = \"anomalia\" if temperatura > 90 or vibracao > 7.5 else \"normal\"\n",
    "    \n",
    "    data = {\n",
    "        \"machine_id\": machine_id,\n",
    "        \"timestamp\": timestamp,\n",
    "        \"temperatura\": temperatura,\n",
    "        \"vibracao\": vibracao,\n",
    "        \"rpm\": rpm,\n",
    "        \"status\": status\n",
    "    }\n",
    "    return data\n",
    "\n",
    "# Loop para gerar e enviar os dados\n",
    "# Execute esta célula e ela ficará rodando até que você a interrompa manualmente (botão 'stop')\n",
    "print(f\"Iniciando a geração e envio de dados para o tópico: {topic_path}\")\n",
    "try:\n",
    "    while True:\n",
    "        for machine_id in [\"maquina-01\", \"maquina-02\", \"maquina-03\"]:\n",
    "            sensor_data = generate_sensor_data(machine_id)\n",
    "            data_json = json.dumps(sensor_data).encode(\"utf-8\")\n",
    "            \n",
    "            # Publica a mensagem no tópico do Pub/Sub\n",
    "            future = publisher.publish(topic_path, data_json)\n",
    "            print(f\"Dados enviados para {machine_id}. ID da mensagem: {future.result()}\")\n",
    "        \n",
    "        time.sleep(1) # Intervalo de 1 segundo entre cada envio\n",
    "except Exception as e:\n",
    "    print(f\"Ocorreu um erro: {e}\")\n"
   ]
  }
 ],
 "metadata": {
  "application/vnd.databricks.v1+notebook": {
   "computePreferences": null,
   "dashboards": [],
   "environmentMetadata": {
    "base_environment": "",
    "environment_version": "3"
   },
   "inputWidgetPreferences": null,
   "language": "python",
   "notebookMetadata": {
    "pythonIndentUnit": 4
   },
   "notebookName": "generate_data.py",
   "widgets": {}
  },
  "language_info": {
   "name": "python"
  }
 },
 "nbformat": 4,
 "nbformat_minor": 0
}
